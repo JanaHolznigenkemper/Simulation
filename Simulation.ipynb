{
 "cells": [
  {
   "cell_type": "code",
   "execution_count": 1,
   "metadata": {},
   "outputs": [],
   "source": [
    "import pandas as pd \n",
    "import time\n",
    "import datetime\n",
    "import numpy as np\n",
    "import random\n",
    "import copy\n",
    "import pickle"
   ]
  },
  {
   "cell_type": "markdown",
   "metadata": {},
   "source": [
    "## Production Times "
   ]
  },
  {
   "cell_type": "markdown",
   "metadata": {},
   "source": [
    "Preparing analysed production times from MDC data of the past five years.  \n",
    "'production_data_anonymized.csv' contains the analysed MDC data for production times  "
   ]
  },
  {
   "cell_type": "code",
   "execution_count": 2,
   "metadata": {},
   "outputs": [],
   "source": [
    "production_times_csv = pd.read_csv('production_data_anonymised.csv', sep=',')\n",
    "materials = pd.read_csv('Material_anonymised.csv', sep= ';', usecols =['MATNR', 'COMNR'])\n",
    "materials = materials.rename(columns = {'MATNR':'operation'})\n",
    "\n",
    "#join to get information about commission numbers \n",
    "production_times_join = pd.merge(materials, production_times_csv, how =\"inner\", on = ['operation'])\n",
    "\n",
    "# probabilities must sum to 1 (Rounding errors)\n",
    "for i in range(0,len(production_times_join)):\n",
    "    probs = production_times_join.iloc[i,3:]\n",
    "    summe = sum(probs)\n",
    "    if (summe !=1):\n",
    "        difference = 1 - summe \n",
    "        index_maximum = list(probs).index(max(list(probs)))\n",
    "        production_times_join.iloc[i,index_maximum+3] = production_times_join.iloc[i,index_maximum+3] + difference\n",
    "        \n",
    "\n",
    "#get production time values from column string \n",
    "intervals_string = production_times_csv.columns\n",
    "production_time_values = []\n",
    "for i in range(2,len(intervals_string)): \n",
    "    string_split = intervals_string[i].split()\n",
    "    tuple_1 = float(string_split[2])\n",
    "    tuple_2 = float(string_split[0])\n",
    "    tuple_all = (tuple_1,tuple_2)\n",
    "    production_time_values.append(tuple_all)\n",
    "\n",
    "# take mean value of each interval of production times = production times that are possible on transfer presses (strokes per min)    \n",
    "production_time_values_one = []\n",
    "for i in range(0,len(production_time_values)):\n",
    "    production_time_values_one.append(np.mean([production_time_values[i][1],production_time_values[i][0]]))\n",
    "        \n"
   ]
  },
  {
   "cell_type": "markdown",
   "metadata": {},
   "source": [
    "## Disruption Times "
   ]
  },
  {
   "cell_type": "markdown",
   "metadata": {},
   "source": [
    "Preparing analysed disruption times from MDC data of the past five years.  \n",
    "\"disruption_data_anonymized.csv\" contains the analysed MDC data for disruption times. Downtimes on weekends are not included. The different diruption intervals vary in length accoring to an exponential transformation   "
   ]
  },
  {
   "cell_type": "code",
   "execution_count": 3,
   "metadata": {},
   "outputs": [],
   "source": [
    "disruption_times_csv_new = pd.read_csv(\"disruption_data_anonymised.csv\", sep=\",\")\n",
    "disruption_times_csv_new = disruption_times_csv_new.rename(columns = {\"no_prod/contract_time\" : \"disruption\"})\n",
    "disruption_times_csv_new[\"no_disruption\"] = 1 - disruption_times_csv_new[\"disruption\"]\n",
    "\n",
    "# get information about commission numbers \n",
    "disruption_times_join = pd.merge(materials , disruption_times_csv_new, how =\"inner\", on = [\"operation\"])\n",
    "\n",
    "## probabilities must sum to 1 (rounding errors)\n",
    "for i in range(0,len(disruption_times_join)):\n",
    "    probs = disruption_times_join.iloc[i,3:(len(disruption_times_join.columns)-2)]\n",
    "    summe = sum(probs)\n",
    "    if (summe !=1):\n",
    "        difference = 1 - summe \n",
    "        index_maximum = list(probs).index(max(list(probs)))\n",
    "        disruption_times_join.iloc[i,index_maximum+3] = disruption_times_join.iloc[i,index_maximum+3] + difference\n",
    "        "
   ]
  },
  {
   "cell_type": "code",
   "execution_count": 4,
   "metadata": {},
   "outputs": [],
   "source": [
    "#Convert time for disruption intervals \n",
    "\n",
    "disruption_intervals = [] \n",
    "disruption_columns = disruption_times_join.columns\n",
    "\n",
    "# add first interval manually, the points in time are shifted backwards \n",
    "disruption_intervals.append((60,419))\n",
    "for i in range(3,(len(disruption_columns)-3)):\n",
    "    bound_left = int(disruption_columns[i]) * 60 \n",
    "    bound_right = int(disruption_columns[i+1]) *60 \n",
    "    interval = (bound_left, bound_right-1)\n",
    "    disruption_intervals.append(interval)\n"
   ]
  },
  {
   "cell_type": "markdown",
   "metadata": {},
   "source": [
    "### Transform csv with probability to random-roulette-lists (for speed-up) "
   ]
  },
  {
   "cell_type": "code",
   "execution_count": 5,
   "metadata": {},
   "outputs": [],
   "source": [
    "production_times_roulette ={}\n",
    "for i,v in production_times_join.iterrows():\n",
    "    key = (v[0],v[2])\n",
    "    z= zip(production_time_values_one, v[3:])\n",
    "    temp_list = []\n",
    "    for j,k in z:\n",
    "        new_values = [j] * int(k* 10000)\n",
    "        temp_list.extend(new_values)\n",
    "    production_times_roulette[key] = temp_list"
   ]
  },
  {
   "cell_type": "code",
   "execution_count": 6,
   "metadata": {},
   "outputs": [],
   "source": [
    "disruption_times_decision_data = disruption_times_join[['operation', 'COMNR', 'machine','disruption', 'no_disruption']].copy()\n",
    "disruption_times_decision_data['disruption'] = np.round(disruption_times_decision_data['disruption'],4) \n",
    "disruption_times_decision_data['no_disruption'] = np.round(disruption_times_decision_data['no_disruption'],4) "
   ]
  },
  {
   "cell_type": "code",
   "execution_count": 7,
   "metadata": {},
   "outputs": [],
   "source": [
    "disruption_decision_roulette = {}\n",
    "for i,v in disruption_times_decision_data.iterrows():\n",
    "    key = (v[0],v[2])\n",
    "    #disruption case = 1 \n",
    "    z= zip([1,0], v[3:])\n",
    "    temp_list = []\n",
    "    for j,k in z:\n",
    "        new_values = [j] * int(k* 10000)\n",
    "        temp_list.extend(new_values)\n",
    "    disruption_decision_roulette[key] = temp_list"
   ]
  },
  {
   "cell_type": "code",
   "execution_count": 8,
   "metadata": {},
   "outputs": [],
   "source": [
    "disruption_times_roulette = {}\n",
    "length_intervals = len(disruption_intervals)\n",
    "length = len(disruption_times_join.columns)\n",
    "values = list(range(0,length_intervals))\n",
    "for i,v in disruption_times_join.iterrows():\n",
    "    key = (v[0],v[2])\n",
    "    z= zip(values , v[3:length-3])\n",
    "    temp_list = []\n",
    "    for j,k in z:\n",
    "        new_values = [j] * int(k* 10000)\n",
    "        temp_list.extend(new_values)\n",
    "    disruption_times_roulette[key] = temp_list"
   ]
  },
  {
   "cell_type": "markdown",
   "metadata": {},
   "source": [
    "## Functions for Calculating Production and Disruption Time from underlying Distributions"
   ]
  },
  {
   "cell_type": "code",
   "execution_count": 9,
   "metadata": {},
   "outputs": [],
   "source": [
    "\"\"\" get random production time for a machine-material = machine-operation combinatin. Here all random production times per\n",
    "part are summed up \n",
    "Parameters\n",
    "----------\n",
    "machine : int\n",
    "    Number of the regarded machine \n",
    "material: int\n",
    "    Number of the regarded material/operation\n",
    "quantity: int \n",
    "    Number of parts to be processed\n",
    "seed: int \n",
    "    We hand over a random seed to ensure randomness in parallelisation\n",
    "\n",
    "Returns\n",
    "-------\n",
    "timedelta\n",
    "    disruption time \n",
    "\"\"\"\n",
    "def get_random_production_time_roulette(machine, material, quantity, seed):\n",
    "    np.random.seed(seed)\n",
    "    return pd.to_timedelta(np.sum(np.random.choice(production_times_roulette[(material, machine)],quantity)), unit = 's')"
   ]
  },
  {
   "cell_type": "code",
   "execution_count": 10,
   "metadata": {},
   "outputs": [],
   "source": [
    "\"\"\" get random disruption decision for a machine-material = machine-operation combination. If no disription occurs timedelta of 0 is returned\n",
    "otherwise we get a random disruption time \n",
    "Parameters\n",
    "----------\n",
    "machine : int\n",
    "    Number of the regarded machine \n",
    "material: int\n",
    "    Number of the regarded material/operation\n",
    "seed: int \n",
    "    We hand over a random seed to ensure randomness in parallelisation\n",
    "\n",
    "Returns\n",
    "-------\n",
    "timedelta\n",
    "    disruption time \n",
    "\"\"\"\n",
    "def disruption_decision_r(machine, material, seed):\n",
    "    np.random.seed(seed)\n",
    "    decision = np.random.choice(disruption_decision_roulette[(material, machine)])\n",
    "    if decision ==1:\n",
    "        return get_random_disruption_time_r(machine, material,seed)\n",
    "    else:\n",
    "        return pd.to_timedelta(0, unit = 's') "
   ]
  },
  {
   "cell_type": "code",
   "execution_count": 11,
   "metadata": {},
   "outputs": [],
   "source": [
    "\"\"\" get random disruption time for a machine-material = machine-operation combination \n",
    "Parameters\n",
    "----------\n",
    "machine : int\n",
    "    Number of the regarded machine \n",
    "material: int\n",
    "    Number of the regarded material/operation\n",
    "seed: int \n",
    "    We hand over a random seed to ensure randomness in parallelisation\n",
    "\n",
    "Returns\n",
    "-------\n",
    "timedelta\n",
    "    disruption time \n",
    "\"\"\"\n",
    "\n",
    "def get_random_disruption_time_r(machine, material, seed): \n",
    "    np.random.seed(seed)\n",
    "    disruption_index = np.random.choice(disruption_times_roulette[(material, machine)])\n",
    "    # first the disruption time intervals is determined\n",
    "    d_interval = disruption_intervals[disruption_index]\n",
    "    # for an exact disruption value, chose value from this interval randomly \n",
    "    disruption_time = np.random.choice(list(range(d_interval[0], d_interval[1]))) \n",
    "    \n",
    "    \n",
    "    return pd.to_timedelta(disruption_time, unit = 's')"
   ]
  },
  {
   "cell_type": "markdown",
   "metadata": {},
   "source": [
    "# Simulation"
   ]
  },
  {
   "cell_type": "markdown",
   "metadata": {},
   "source": [
    "#### Simulate a given schedule: For each operation production and disruption times are determined "
   ]
  },
  {
   "cell_type": "markdown",
   "metadata": {},
   "source": [
    "0start_planned \t1end_planned \t2machine \t3material_com \t4material_num \t5production_time \t6setup_time \t7quantity \t\n",
    "8material_sim \t9machine_sim \t10disruption_buffer \t11production_time_random \t12disruption_random \t13start_new \t14end_new"
   ]
  },
  {
   "cell_type": "markdown",
   "metadata": {},
   "source": [
    "Simulation: for each part of the operation a random time is chosen from production distribution.  \n",
    "For each opertion it is decided once, if a disruption occurs"
   ]
  },
  {
   "cell_type": "code",
   "execution_count": 12,
   "metadata": {},
   "outputs": [],
   "source": [
    "\"\"\" Simulate schedule \n",
    "Parameters\n",
    "----------\n",
    "test_set_input : dict\n",
    "    Contains all jobs scheduled on all levels. Structure of the dict:Level:dict:Machines:Df\n",
    "\n",
    "Returns\n",
    "-------\n",
    "dict\n",
    "    same structure as test_set_input, enriched with new end and start dates \n",
    "\"\"\"\n",
    "def simulation(test_set_input, seed_list):\n",
    "    test_set = copy.deepcopy(test_set_input)\n",
    "# for each job on each level random production and disruption times are drawn\n",
    "    for index_level, level_dict in test_set.items():\n",
    "        seed = seed_list[index_level-1]\n",
    "        for index_machine,df_machines in level_dict.items():\n",
    "            for i, (index_df, value) in enumerate(df_machines.iterrows()):\n",
    "                value['production_time_random'] =  get_random_production_time_roulette(value['machine_sim'], value['material_sim'], value['quantity'], seed)\n",
    "                value['disruption_random'] = disruption_decision_r(value['machine_sim'], value['material_sim'], seed)\n",
    "                test_set[index_level][index_machine].loc[index_df,'production_time_random'] = value['production_time_random']\n",
    "                if (index_level == 1 and i==0):\n",
    "                    start_new = value['start_planned']\n",
    "                elif (index_level>1 and i==0):\n",
    "                    start_new = max(df_machines.iloc[0,0], test_set[index_level-1][index_machine].iloc[0,14]) \n",
    "                elif (index_level==1 and i>0):\n",
    "                    start_new = max(value[\"start_planned\"], df_machines.iloc[i-1 ,13])\n",
    "                elif (index_level>1 and i>0):\n",
    "                    start_new = max(value[\"start_planned\"], df_machines[\"end_new\"].iloc[i-1], test_set[index_level-1][index_machine].iloc[i, 14])                           \n",
    "                else:\n",
    "                    print('something went wrong')\n",
    "                test_set[index_level][index_machine].iloc[i,13] = start_new\n",
    "                test_set[index_level][index_machine].iloc[i,14] = start_new + value[\"production_time_random\"] + value[\"setup_time\"] + value[\"disruption_random\"]\n",
    "        \n",
    "\n",
    "    return test_set"
   ]
  },
  {
   "cell_type": "code",
   "execution_count": null,
   "metadata": {},
   "outputs": [],
   "source": []
  }
 ],
 "metadata": {
  "kernelspec": {
   "display_name": "Python 3",
   "language": "python",
   "name": "python3"
  },
  "language_info": {
   "codemirror_mode": {
    "name": "ipython",
    "version": 3
   },
   "file_extension": ".py",
   "mimetype": "text/x-python",
   "name": "python",
   "nbconvert_exporter": "python",
   "pygments_lexer": "ipython3",
   "version": "3.7.4"
  }
 },
 "nbformat": 4,
 "nbformat_minor": 4
}
